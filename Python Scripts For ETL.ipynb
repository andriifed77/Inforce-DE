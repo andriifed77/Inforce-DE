{
 "cells": [
  {
   "cell_type": "code",
   "execution_count": 1,
   "id": "c46897e4",
   "metadata": {},
   "outputs": [
    {
     "name": "stdout",
     "output_type": "stream",
     "text": [
      "Requirement already satisfied: faker in c:\\andriy\\.pkr\\anaconda2\\lib\\site-packages (28.0.0)\n",
      "Requirement already satisfied: python-dateutil>=2.4 in c:\\andriy\\.pkr\\anaconda2\\lib\\site-packages (from faker) (2.8.2)\n",
      "Requirement already satisfied: six>=1.5 in c:\\andriy\\.pkr\\anaconda2\\lib\\site-packages (from python-dateutil>=2.4->faker) (1.16.0)\n",
      "Note: you may need to restart the kernel to use updated packages.\n"
     ]
    }
   ],
   "source": [
    "pip install faker\n"
   ]
  },
  {
   "cell_type": "code",
   "execution_count": 2,
   "id": "5df1bca1",
   "metadata": {},
   "outputs": [],
   "source": [
    "import csv\n",
    "import random\n",
    "import datetime\n",
    "from faker import Faker as faker\n",
    "import pandas as pd\n",
    "import numpy as np\n",
    "import json\n",
    "import requests\n",
    "import zipfile\n",
    "import os\n",
    "import matplotlib.pyplot as plt\n",
    "import seaborn as sns\n",
    "%matplotlib inline"
   ]
  },
  {
   "cell_type": "code",
   "execution_count": 3,
   "id": "fc2af9ce",
   "metadata": {},
   "outputs": [
    {
     "name": "stdout",
     "output_type": "stream",
     "text": [
      "Name: Faker\n",
      "Version: 28.0.0\n",
      "Summary: Faker is a Python package that generates fake data for you.\n",
      "Home-page: https://github.com/joke2k/faker\n",
      "Author: joke2k\n",
      "Author-email: joke2k@gmail.com\n",
      "License: MIT License\n",
      "Location: C:\\Andriy\\.PKR\\Anaconda2\\Lib\\site-packages\n",
      "Requires: python-dateutil\n",
      "Required-by: \n",
      "Note: you may need to restart the kernel to use updated packages.\n"
     ]
    }
   ],
   "source": [
    "pip show Faker"
   ]
  },
  {
   "cell_type": "code",
   "execution_count": 4,
   "id": "8423f579",
   "metadata": {},
   "outputs": [
    {
     "name": "stdout",
     "output_type": "stream",
     "text": [
      "1000 записів збережено у users.csv\n"
     ]
    }
   ],
   "source": [
    "import csv\n",
    "from faker import Faker\n",
    "\n",
    "faker = Faker()\n",
    "\n",
    "num_records = 1000\n",
    "\n",
    "with open('users.csv', mode='w', newline='') as file:\n",
    "    writer = csv.writer(file)\n",
    "    writer.writerow(['user_id', 'name', 'email', 'signup_date'])\n",
    "    for user_id in range(1, num_records + 1):\n",
    "        name = faker.name() \n",
    "        email = faker.email()\n",
    "        signup_date = faker.date_time_this_decade().strftime('%Y-%m-%d %H:%M:%S')\n",
    "        writer.writerow([user_id, name, email, signup_date])\n",
    "\n",
    "print(f'{num_records} записів збережено у users.csv')\n"
   ]
  },
  {
   "cell_type": "code",
   "execution_count": 5,
   "id": "b2026fb9",
   "metadata": {},
   "outputs": [
    {
     "name": "stdout",
     "output_type": "stream",
     "text": [
      "   user_id             name                    email          signup_date\n",
      "0        1       Nathan Lee     hmathews@example.org  2021-10-24 15:13:39\n",
      "1        2  Jeffrey Morales        fwolf@example.com  2021-06-03 13:28:12\n",
      "2        3     Kim Thompson  knighttammy@example.net  2023-07-18 21:16:54\n",
      "3        4      Sharon Ford   ortizjames@example.org  2020-03-28 20:18:29\n",
      "4        5        John Leon     amanda31@example.net  2021-11-02 21:49:55\n",
      "     user_id             name                        email  \\\n",
      "0          1       Nathan Lee         hmathews@example.org   \n",
      "1          2  Jeffrey Morales            fwolf@example.com   \n",
      "2          3     Kim Thompson      knighttammy@example.net   \n",
      "3          4      Sharon Ford       ortizjames@example.org   \n",
      "4          5        John Leon         amanda31@example.net   \n",
      "..       ...              ...                          ...   \n",
      "995      996     Darryl Moran        nsullivan@example.org   \n",
      "996      997   Shelley Zavala     grayjonathan@example.com   \n",
      "997      998      Brian Jones           mark24@example.com   \n",
      "998      999    Jonathan Ross     sanchezoscar@example.net   \n",
      "999     1000    Hailey Walker  rasmussennicole@example.net   \n",
      "\n",
      "             signup_date  \n",
      "0    2021-10-24 15:13:39  \n",
      "1    2021-06-03 13:28:12  \n",
      "2    2023-07-18 21:16:54  \n",
      "3    2020-03-28 20:18:29  \n",
      "4    2021-11-02 21:49:55  \n",
      "..                   ...  \n",
      "995  2020-04-30 06:44:49  \n",
      "996  2020-10-15 00:27:09  \n",
      "997  2024-01-21 00:21:16  \n",
      "998  2020-09-16 13:22:28  \n",
      "999  2021-09-12 11:22:54  \n",
      "\n",
      "[1000 rows x 4 columns]\n"
     ]
    }
   ],
   "source": [
    "df = pd.read_csv('users.csv')\n",
    "print(df.head()) \n",
    "print(df)\n"
   ]
  },
  {
   "cell_type": "code",
   "execution_count": 6,
   "id": "9d33107a",
   "metadata": {},
   "outputs": [
    {
     "name": "stdout",
     "output_type": "stream",
     "text": [
      "   user_id             name                    email signup_date\n",
      "0        1       Nathan Lee     hmathews@example.org    21-10-24\n",
      "1        2  Jeffrey Morales        fwolf@example.com    21-06-03\n",
      "2        3     Kim Thompson  knighttammy@example.net    23-07-18\n",
      "3        4      Sharon Ford   ortizjames@example.org    20-03-28\n",
      "4        5        John Leon     amanda31@example.net    21-11-02\n"
     ]
    }
   ],
   "source": [
    "df['signup_date'] = pd.to_datetime(df['signup_date'], errors='coerce')\n",
    "df['signup_date'] = df['signup_date'].dt.strftime('%y-%m-%d')\n",
    "print(df.head())\n"
   ]
  },
  {
   "cell_type": "code",
   "execution_count": 7,
   "id": "71b1ae38",
   "metadata": {},
   "outputs": [
    {
     "name": "stdout",
     "output_type": "stream",
     "text": [
      "     user_id             name                        email signup_date\n",
      "0          1       Nathan Lee         hmathews@example.org    21-10-24\n",
      "1          2  Jeffrey Morales            fwolf@example.com    21-06-03\n",
      "2          3     Kim Thompson      knighttammy@example.net    23-07-18\n",
      "3          4      Sharon Ford       ortizjames@example.org    20-03-28\n",
      "4          5        John Leon         amanda31@example.net    21-11-02\n",
      "..       ...              ...                          ...         ...\n",
      "995      996     Darryl Moran        nsullivan@example.org    20-04-30\n",
      "996      997   Shelley Zavala     grayjonathan@example.com    20-10-15\n",
      "997      998      Brian Jones           mark24@example.com    24-01-21\n",
      "998      999    Jonathan Ross     sanchezoscar@example.net    20-09-16\n",
      "999     1000    Hailey Walker  rasmussennicole@example.net    21-09-12\n",
      "\n",
      "[1000 rows x 4 columns]\n"
     ]
    }
   ],
   "source": [
    "import re\n",
    "email_pattern = r'^[a-zA-Z0-9_.+-]+@[a-zA-Z0-9-]+\\.[a-zA-Z0-9-.]+$'\n",
    "df = df[df['email'].apply(lambda x: re.match(email_pattern, x) is not None)]\n",
    "print(df)"
   ]
  },
  {
   "cell_type": "code",
   "execution_count": 8,
   "id": "c1a18c78",
   "metadata": {},
   "outputs": [
    {
     "name": "stdout",
     "output_type": "stream",
     "text": [
      "0             hmathews@example.org\n",
      "1                fwolf@example.com\n",
      "2          knighttammy@example.net\n",
      "3           ortizjames@example.org\n",
      "4             amanda31@example.net\n",
      "                  ...             \n",
      "995          nsullivan@example.org\n",
      "996       grayjonathan@example.com\n",
      "997             mark24@example.com\n",
      "998       sanchezoscar@example.net\n",
      "999    rasmussennicole@example.net\n",
      "Name: email, Length: 1000, dtype: object\n"
     ]
    }
   ],
   "source": [
    "print(df['email'])"
   ]
  },
  {
   "cell_type": "code",
   "execution_count": 9,
   "id": "95f1bfc5",
   "metadata": {},
   "outputs": [
    {
     "name": "stdout",
     "output_type": "stream",
     "text": [
      "   user_id             name                    email signup_date       domain\n",
      "0        1       Nathan Lee     hmathews@example.org    21-10-24  example.org\n",
      "1        2  Jeffrey Morales        fwolf@example.com    21-06-03  example.com\n",
      "2        3     Kim Thompson  knighttammy@example.net    23-07-18  example.net\n",
      "3        4      Sharon Ford   ortizjames@example.org    20-03-28  example.org\n",
      "4        5        John Leon     amanda31@example.net    21-11-02  example.net\n"
     ]
    }
   ],
   "source": [
    "df['domain'] = df['email'].apply(lambda x: x.split('@')[1] if '@' in x else None)\n",
    "print(df.head())"
   ]
  },
  {
   "cell_type": "code",
   "execution_count": 10,
   "id": "6bbcb530",
   "metadata": {},
   "outputs": [],
   "source": [
    "df.to_csv('modified_users.csv', index=False)"
   ]
  },
  {
   "cell_type": "code",
   "execution_count": 11,
   "id": "1c9d97b7",
   "metadata": {},
   "outputs": [
    {
     "ename": "SyntaxError",
     "evalue": "invalid syntax (3886353018.py, line 1)",
     "output_type": "error",
     "traceback": [
      "\u001b[1;36m  Cell \u001b[1;32mIn[11], line 1\u001b[1;36m\u001b[0m\n\u001b[1;33m    FROM python:3.9-slim\u001b[0m\n\u001b[1;37m         ^\u001b[0m\n\u001b[1;31mSyntaxError\u001b[0m\u001b[1;31m:\u001b[0m invalid syntax\n"
     ]
    }
   ],
   "source": [
    "FROM python:3.9-slim\n",
    "ENV PYTHONUNBUFFERED=1\n",
    "WORKDIR /app\n",
    "COPY requirements.txt /app/\n",
    "RUN pip install --no-cache-dir -r requirements.txt\n",
    "COPY . /app/\n",
    "CMD [\"python\", \"your_script.py\"]\n"
   ]
  },
  {
   "cell_type": "code",
   "execution_count": null,
   "id": "9e90b9b3",
   "metadata": {},
   "outputs": [],
   "source": []
  }
 ],
 "metadata": {
  "kernelspec": {
   "display_name": "Python 3 (ipykernel)",
   "language": "python",
   "name": "python3"
  },
  "language_info": {
   "codemirror_mode": {
    "name": "ipython",
    "version": 3
   },
   "file_extension": ".py",
   "mimetype": "text/x-python",
   "name": "python",
   "nbconvert_exporter": "python",
   "pygments_lexer": "ipython3",
   "version": "3.11.5"
  }
 },
 "nbformat": 4,
 "nbformat_minor": 5
}
